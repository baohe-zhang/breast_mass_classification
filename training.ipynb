{
 "cells": [
  {
   "cell_type": "code",
   "execution_count": null,
   "metadata": {},
   "outputs": [],
   "source": [
    "import torch\n",
    "from PIL import Image\n",
    "\n",
    "IS_GPU = torch.cuda.is_available()"
   ]
  },
  {
   "cell_type": "code",
   "execution_count": null,
   "metadata": {},
   "outputs": [],
   "source": [
    "# Show sample images"
   ]
  },
  {
   "cell_type": "code",
   "execution_count": null,
   "metadata": {},
   "outputs": [],
   "source": []
  },
  {
   "cell_type": "code",
   "execution_count": null,
   "metadata": {},
   "outputs": [],
   "source": [
    "class DDSM(torch.utils.data.Dataset):\n",
    "    def __init__(self, root, split, transform):\n",
    "        self.root = root\n",
    "        self.transform = transform\n",
    "        self.image_list = []\n",
    "        \n",
    "        def process_line(line):\n",
    "            img_name, label = line.strip().split(' ')\n",
    "            label = int(label)\n",
    "            return img_name, label\n",
    "        \n",
    "        with open(os.path.join(root, '{}.txt'.format(split)), 'r') as f:\n",
    "            for line in f.readlines():\n",
    "                self.image_list.append(process_line(line))\n",
    "            \n",
    "    def __len__(self):\n",
    "        return len(self.image_list)\n",
    "    \n",
    "    def __getitem__(self, idx):\n",
    "        img_name, label = self.image_list[idx]\n",
    "        img = Image.open(os.path.join(self.root, img_name))\n",
    "        img = self.transform(img)\n",
    "        return img, label"
   ]
  },
  {
   "cell_type": "code",
   "execution_count": null,
   "metadata": {},
   "outputs": [],
   "source": [
    "# Dataloader\n",
    "\n",
    "import os\n",
    "import torchvision.transforms as transforms\n",
    "\n",
    "root = '/Users/baohezhang/codes/cs598jp-prj/'\n",
    "\n",
    "# normalize = transforms.Normalize(mean=[0.485, 0.456, 0.406], std=[0.229, 0.224, 0.225])\n",
    "train_dataset = DDSM(root, 'images/train', transforms.ToTensor())\n",
    "\n",
    "train_loader = torch.utils.data.DataLoader(train_dataset, batch_size=32, shuffle=True, num_workers=4, pin_memory=True)"
   ]
  },
  {
   "cell_type": "code",
   "execution_count": null,
   "metadata": {},
   "outputs": [],
   "source": [
    "print(len(train_loader))"
   ]
  },
  {
   "cell_type": "code",
   "execution_count": null,
   "metadata": {},
   "outputs": [],
   "source": [
    "# AlexNet\n",
    "\n",
    "import torchvision.models as models\n",
    "import torch.nn as nn\n",
    "\n",
    "model = models.__dict__['alexnet'](pretrained=True)\n",
    "\n",
    "model.classifier._modules['6'] = nn.Linear(4096, 2)\n",
    "\n",
    "if IS_GPU:\n",
    "    model.features = torch.nn.DataParallel(model.features)\n",
    "    model.cuda()\n",
    "\n",
    "model.eval()"
   ]
  },
  {
   "cell_type": "code",
   "execution_count": null,
   "metadata": {},
   "outputs": [],
   "source": [
    "# Train AlexNet\n",
    "import time\n",
    "\n",
    "import torch.optim as optim\n",
    "\n",
    "criterion = nn.CrossEntropyLoss()\n",
    "optimizer = optim.SGD(model.parameters(), lr=0.001, momentum=0.9)\n",
    "\n",
    "epoch_num = 1\n",
    "\n",
    "start_ts = time.time()\n",
    "\n",
    "for epoch in range(epoch_num):\n",
    "    epoch_loss = 0.0\n",
    "    epoch_accuracy = 0.0\n",
    "    \n",
    "    sample_count = 0\n",
    "    correct_count = 0\n",
    "    \n",
    "    for i, samples in enumerate(train_loader):\n",
    "        images, labels = samples\n",
    "        if IS_GPU:\n",
    "            images = images.cuda()\n",
    "            labels = labels.cuda()\n",
    "            \n",
    "        optimizer.zero_grad()\n",
    "        \n",
    "        outputs = model(images)\n",
    "        loss = criterion(outputs, labels)\n",
    "        loss.backward()\n",
    "        optimizer.step()\n",
    "        \n",
    "        _, preds = torch.max(outputs.data, 1)\n",
    "        \n",
    "        epoch_loss += loss.item()\n",
    "        \n",
    "        sample_count += len(labels)\n",
    "        correct_count += torch.sum(preds == labels).item()\n",
    "        \n",
    "        if i % 10 == 0:\n",
    "            print(i)\n",
    "    \n",
    "    print('time: {}'.format(int(time.time() - start_ts)))\n",
    "    print('epoch {} '.format(epoch) + 'accuracy: ' + str(correct_count / sample_count))"
   ]
  },
  {
   "cell_type": "code",
   "execution_count": null,
   "metadata": {},
   "outputs": [],
   "source": [
    "# Evaluation\n",
    "\n",
    "with torch.no_grad():\n",
    "    sample_count = 0\n",
    "    correct_count = 0\n",
    "    \n",
    "    for i, samples in enumerate(train_loader):\n",
    "        images, labels = samples\n",
    "        \n",
    "        if IS_GPU:\n",
    "            images = images.cuda()\n",
    "            labels = labels.cuda()\n",
    "            \n",
    "        outputs = model(images)\n",
    "        _, preds = torch.max(outputs.data, 1)\n",
    "        \n",
    "        sample_count += len(labels)\n",
    "        correct_count += torch.sum(preds == labels).item()\n",
    "    \n",
    "    print('accuracy: ' + str(correct_count / sample_count))"
   ]
  },
  {
   "cell_type": "code",
   "execution_count": null,
   "metadata": {},
   "outputs": [],
   "source": []
  }
 ],
 "metadata": {
  "kernelspec": {
   "display_name": "Python 3",
   "language": "python",
   "name": "python3"
  },
  "language_info": {
   "codemirror_mode": {
    "name": "ipython",
    "version": 3
   },
   "file_extension": ".py",
   "mimetype": "text/x-python",
   "name": "python",
   "nbconvert_exporter": "python",
   "pygments_lexer": "ipython3",
   "version": "3.6.9"
  }
 },
 "nbformat": 4,
 "nbformat_minor": 2
}
